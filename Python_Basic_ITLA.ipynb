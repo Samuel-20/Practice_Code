{
  "nbformat": 4,
  "nbformat_minor": 0,
  "metadata": {
    "colab": {
      "name": "Python_Basic_ITLA.ipynb",
      "provenance": [],
      "collapsed_sections": []
    },
    "kernelspec": {
      "name": "python3",
      "display_name": "Python 3"
    }
  },
  "cells": [
    {
      "cell_type": "markdown",
      "metadata": {
        "id": "hGjgQ8lGS9Qs",
        "colab_type": "text"
      },
      "source": [
        "# Práctica Python"
      ]
    },
    {
      "cell_type": "markdown",
      "metadata": {
        "id": "oKdZkqYQTc7J",
        "colab_type": "text"
      },
      "source": [
        "Leyendo una cadena de caracteres para contar la cantidad de letras mayúsculas y minúsculas."
      ]
    },
    {
      "cell_type": "code",
      "metadata": {
        "id": "Z_dL3jayTI55",
        "colab_type": "code",
        "colab": {
          "base_uri": "https://localhost:8080/",
          "height": 72
        },
        "outputId": "261502e6-79ff-4c24-8c97-719aba8a45bc"
      },
      "source": [
        "May = 'ABCDEFGHIJKLMNOPQRSTUVWXY'\n",
        "CouLetr = 0\n",
        "CouMin = 0\n",
        "\n",
        "Car = input(\"Inserte la cadena: \")\n",
        "for letra in Car:\n",
        "    if letra in May:\n",
        "        CouLetr += 1\n",
        "    else:\n",
        "        CouMin += 1\n",
        "\n",
        "print(\"La cantidad de Mayusculas es: \",CouLetr)\n",
        "print(\"La cantidad de Minusculass es: \",CouMin)"
      ],
      "execution_count": 23,
      "outputs": [
        {
          "output_type": "stream",
          "text": [
            "Inserte la cadena: dsdgsdggdSTERWERWEEFDBNXbd\n",
            "La cantidad de Mayusculas es:  15\n",
            "La cantidad de Minusculass es:  11\n"
          ],
          "name": "stdout"
        }
      ]
    },
    {
      "cell_type": "markdown",
      "metadata": {
        "id": "IujCsdgyT3lp",
        "colab_type": "text"
      },
      "source": [
        "Buscando la palabra que inicie con la letra en mayúscula dada."
      ]
    },
    {
      "cell_type": "code",
      "metadata": {
        "id": "JmUaZdVvUCUj",
        "colab_type": "code",
        "colab": {
          "base_uri": "https://localhost:8080/",
          "height": 72
        },
        "outputId": "62311379-60f4-4154-d871-6852105861e4"
      },
      "source": [
        "ListaNom = [\"Jose\",\"Eriberto\",\"Carolina\",\"Lea\",\"Manuel\",\"Carlos\"]\n",
        "print(ListaNom)\n",
        "Count = 0 \n",
        "Letra = input(\"Inserte la letra a buscar: \").upper()\n",
        "\n",
        "for nombre in ListaNom:\n",
        "    if nombre.startswith(Letra):\n",
        "        Count += 1\n",
        "        \n",
        "print(\"La cantidad que inician con esta letra son: \",Count)"
      ],
      "execution_count": 2,
      "outputs": [
        {
          "output_type": "stream",
          "text": [
            "['Jose', 'Eriberto', 'Carolina', 'Lea', 'Manuel', 'Carlos']\n",
            "Inserte la letra a buscar: l\n",
            "La cantidad que inician con esta letra son:  1\n"
          ],
          "name": "stdout"
        }
      ]
    },
    {
      "cell_type": "markdown",
      "metadata": {
        "id": "9OPL_h6hUHto",
        "colab_type": "text"
      },
      "source": [
        "Contar las letra dada en la palabra."
      ]
    },
    {
      "cell_type": "code",
      "metadata": {
        "id": "VsB9emQzUNRT",
        "colab_type": "code",
        "colab": {
          "base_uri": "https://localhost:8080/",
          "height": 72
        },
        "outputId": "ade8c6fc-d2b6-4f80-e7a6-555f0794063e"
      },
      "source": [
        "palb = input(\"Inserte la palabra: \").upper()\n",
        "letr = input(\"Inserte la letra a buscar: \").upper()\n",
        "contador = 0\n",
        "\n",
        "for letra in palb:\n",
        "    if letra == letr:\n",
        "        contador += 1\n",
        "\n",
        "print(\"La cantidad de letras encontradas en la palabra son: \",contador)"
      ],
      "execution_count": 3,
      "outputs": [
        {
          "output_type": "stream",
          "text": [
            "Inserte la palabra: fnvklnkmvklnvksdn;eeemco \n",
            "Inserte la letra a buscar: h\n",
            "La cantidad de letras encontradas en la palabra son:  0\n"
          ],
          "name": "stdout"
        }
      ]
    },
    {
      "cell_type": "markdown",
      "metadata": {
        "id": "rUMKR2CsUW7L",
        "colab_type": "text"
      },
      "source": [
        "Buscando la cadena más larga dentro de ua cadena de caracteres."
      ]
    },
    {
      "cell_type": "code",
      "metadata": {
        "id": "HakIxvskUkDA",
        "colab_type": "code",
        "colab": {
          "base_uri": "https://localhost:8080/",
          "height": 53
        },
        "outputId": "5098d668-6fdd-491c-aeae-f6358adf1fe5"
      },
      "source": [
        "cadAnterior = 0\n",
        "Palabra = ''\n",
        "ListaCad = [\"Pulcro\",\"Listo\",\"Inteligente\",\"Gracioso\",\"Programacion\",\"Lineal\"]\n",
        "\n",
        "for cadena in ListaCad:\n",
        "    if len(cadena) > cadAnterior:   \n",
        "        cadAnterior = len(cadena)\n",
        "        Palabra = cadena\n",
        "\n",
        "print(ListaCad)\n",
        "print(Palabra)"
      ],
      "execution_count": 5,
      "outputs": [
        {
          "output_type": "stream",
          "text": [
            "['Pulcro', 'Listo', 'Inteligente', 'Gracioso', 'Programacion', 'Lineal']\n",
            "Programacion\n"
          ],
          "name": "stdout"
        }
      ]
    },
    {
      "cell_type": "markdown",
      "metadata": {
        "id": "lo2F8ifYU5dx",
        "colab_type": "text"
      },
      "source": [
        "Buscando la cantidad de caracteres dados en una lista."
      ]
    },
    {
      "cell_type": "code",
      "metadata": {
        "id": "yw5F2RAPVC2C",
        "colab_type": "code",
        "colab": {
          "base_uri": "https://localhost:8080/",
          "height": 72
        },
        "outputId": "785b519b-4c46-4188-e66d-4c295ad68ed0"
      },
      "source": [
        "Num = int(input(\"Inserte el numero: \"))\n",
        "ListaPal = [\"Dios\",\"Libre\",\"Canto\",\"Learning\",\"Monitor\",\"CPU\"]\n",
        "print(ListaPal)\n",
        "\n",
        "for palabra in ListaPal:\n",
        "    if len(palabra) > Num:\n",
        "        print(palabra)"
      ],
      "execution_count": 8,
      "outputs": [
        {
          "output_type": "stream",
          "text": [
            "Inserte el numero: 7\n",
            "['Dios', 'Libre', 'Canto', 'Learning', 'Monitor', 'CPU']\n",
            "Learning\n"
          ],
          "name": "stdout"
        }
      ]
    },
    {
      "cell_type": "markdown",
      "metadata": {
        "id": "vD4hertgVWPc",
        "colab_type": "text"
      },
      "source": [
        "Programa básico de suma."
      ]
    },
    {
      "cell_type": "code",
      "metadata": {
        "id": "Vmxql9RqVdCQ",
        "colab_type": "code",
        "colab": {
          "base_uri": "https://localhost:8080/",
          "height": 90
        },
        "outputId": "fb119f29-aa62-469c-c173-3656c1e7304c"
      },
      "source": [
        "X = int(input(\"Valor 1: \"))\n",
        "Y = int(input(\"Valor 2: \"))\n",
        "Z = int(input(\"Valor 3: \"))\n",
        "\n",
        "J = X+Y+Z\n",
        "\n",
        "print(\"El Valor Total es: \", J)\n"
      ],
      "execution_count": 9,
      "outputs": [
        {
          "output_type": "stream",
          "text": [
            "Valor 1: 222\n",
            "Valor 2: 58\n",
            "Valor 3: 1\n",
            "El Valor Total es:  281\n"
          ],
          "name": "stdout"
        }
      ]
    },
    {
      "cell_type": "markdown",
      "metadata": {
        "id": "FrOKe24WVhvZ",
        "colab_type": "text"
      },
      "source": [
        "Buscar el mayor valor de tres."
      ]
    },
    {
      "cell_type": "code",
      "metadata": {
        "id": "yGayqYROVmVh",
        "colab_type": "code",
        "colab": {
          "base_uri": "https://localhost:8080/",
          "height": 108
        },
        "outputId": "7c5ed571-3c8c-4241-fe21-c621eb88b585"
      },
      "source": [
        "A = int(input(\"Valor 1: \"))\n",
        "B = int(input(\"Valor 2: \"))\n",
        "C = int(input(\"Valor 3: \"))\n",
        "\n",
        "#Definiendo la funcion para realizar el calculo.\n",
        "def max_de_tres():\n",
        "    if A > B and A > C:\n",
        "        print(\"El Mayor de todos es \",A)\n",
        "    elif B > A and B > C:\n",
        "        print(\"El Mayor de todos es \",B)\n",
        "    elif C > A and C > B:\n",
        "        print(\"El mMyor de todos es \",C)\n",
        "        \n",
        "\n",
        "max_de_tres()\n",
        "\n",
        "#Usando la funcion MAX de Python\n",
        "D = max(A,B,C)\n",
        "print(\"El Mayor de todos es \",D)"
      ],
      "execution_count": 10,
      "outputs": [
        {
          "output_type": "stream",
          "text": [
            "Valor 1: 54565\n",
            "Valor 2: 5\n",
            "Valor 3: 15154\n",
            "El mayor de todos es  54565\n",
            "El Mayor de todos es  54565\n"
          ],
          "name": "stdout"
        }
      ]
    },
    {
      "cell_type": "markdown",
      "metadata": {
        "id": "x9_hVvY5V_Ei",
        "colab_type": "text"
      },
      "source": [
        "Invirtiendo e imprimiendo una lista."
      ]
    },
    {
      "cell_type": "code",
      "metadata": {
        "id": "lBvRdMlvWGMg",
        "colab_type": "code",
        "colab": {
          "base_uri": "https://localhost:8080/",
          "height": 72
        },
        "outputId": "bf1ae581-b1df-43e0-da91-7e2f48105422"
      },
      "source": [
        "ListaPrueba = [\"apple\", \"banana\", \"cherry\"]\n",
        "print(len(ListaPrueba))\n",
        "print(ListaPrueba)\n",
        "ListaPrueba.reverse()\n",
        "print(ListaPrueba)"
      ],
      "execution_count": 12,
      "outputs": [
        {
          "output_type": "stream",
          "text": [
            "3\n",
            "['apple', 'banana', 'cherry']\n",
            "['cherry', 'banana', 'apple']\n"
          ],
          "name": "stdout"
        }
      ]
    },
    {
      "cell_type": "markdown",
      "metadata": {
        "id": "IKw32WkSWOxh",
        "colab_type": "text"
      },
      "source": [
        "Programa que espera un caracter y devuelve si es una vocal o una consonante."
      ]
    },
    {
      "cell_type": "code",
      "metadata": {
        "id": "PGESRWYwWasy",
        "colab_type": "code",
        "colab": {
          "base_uri": "https://localhost:8080/",
          "height": 53
        },
        "outputId": "ade061f9-c870-4cc8-f128-8130f938ca41"
      },
      "source": [
        "L = input(\"Introduce tu caracter: \").upper()\n",
        "\n",
        "if (L == 'A' or L == 'E' or L == 'I' or L == 'O' or L == 'U'):\n",
        "    print(\"El valor es una Vocal\")\n",
        "else:\n",
        "    print(\"El Valor es una consonante\")"
      ],
      "execution_count": 13,
      "outputs": [
        {
          "output_type": "stream",
          "text": [
            "Introduce tu caracter: l\n",
            "El Valor es una consonante\n"
          ],
          "name": "stdout"
        }
      ]
    },
    {
      "cell_type": "markdown",
      "metadata": {
        "id": "PayBCzRyWc06",
        "colab_type": "text"
      },
      "source": [
        "Programa que espera un valor Romano del I - X y devuelve su valor en número décimal."
      ]
    },
    {
      "cell_type": "code",
      "metadata": {
        "id": "ruWaqUm6Wn5S",
        "colab_type": "code",
        "colab": {
          "base_uri": "https://localhost:8080/",
          "height": 53
        },
        "outputId": "3911ccd6-5c00-4c01-ad91-ec9b4d48dad4"
      },
      "source": [
        "ListaRomano = {\"I\":1, \"II\":2, \"III\":3, \"IV\":4, \"V\":5, \"VI\":6, \"VII\":7, \"VIII\":8, \"IX\":9, \"X\":10}\n",
        "\n",
        "Romano = input(\"Introduce tu numero romano del 1 al 10: \").upper()\n",
        "print(\"El numero en decimal es \",ListaRomano[Romano])"
      ],
      "execution_count": 14,
      "outputs": [
        {
          "output_type": "stream",
          "text": [
            "Introduce tu numero romano del 1 al 10: VI\n",
            "El numero en decimal es  6\n"
          ],
          "name": "stdout"
        }
      ]
    },
    {
      "cell_type": "markdown",
      "metadata": {
        "id": "pvPtJqL1WrPQ",
        "colab_type": "text"
      },
      "source": [
        "Buscar coincidencias dentro de una lista."
      ]
    },
    {
      "cell_type": "code",
      "metadata": {
        "id": "qpWo-hCAWyN5",
        "colab_type": "code",
        "colab": {
          "base_uri": "https://localhost:8080/",
          "height": 35
        },
        "outputId": "5efd0142-453a-43aa-87cf-b727f800cc64"
      },
      "source": [
        "Q = 0\n",
        "Lista1 = [\"yellow\", \"big\", \"tasty\"]\n",
        "Lista2 = [\"red\", \"blue\", \"gross\"]\n",
        "\n",
        "for x in Lista1:    \n",
        "    for y in Lista2:\n",
        "        if x == y:\n",
        "            Q = True    \n",
        "        else:   \n",
        "            S = False\n",
        "\n",
        "if Q == True:\n",
        "    print(\"La coincidencia es: \",Q)\n",
        "else:\n",
        "    print(\"La coincidencia es: \",S)"
      ],
      "execution_count": 15,
      "outputs": [
        {
          "output_type": "stream",
          "text": [
            "La coincidencia es:  False\n"
          ],
          "name": "stdout"
        }
      ]
    },
    {
      "cell_type": "markdown",
      "metadata": {
        "id": "Cgr_anyHW0dy",
        "colab_type": "text"
      },
      "source": [
        "Sumar los valores dentro de una lista y multiplicar los valores de la otra."
      ]
    },
    {
      "cell_type": "code",
      "metadata": {
        "id": "SAoiCLVvW9oS",
        "colab_type": "code",
        "colab": {
          "base_uri": "https://localhost:8080/",
          "height": 53
        },
        "outputId": "43be82b8-b102-4028-9b9d-92db51a736d6"
      },
      "source": [
        "ListaSum = [1,2,3,4]\n",
        "ListaMult = [1,2,3,4]\n",
        "P = 0\n",
        "K = 1\n",
        "\n",
        "for x in ListaSum:\n",
        "    P = x + P\n",
        "\n",
        "for i in ListaMult:\n",
        "    K = i * K\n",
        "\n",
        "print(\"El resultado de la lista de suma es: \",P)\n",
        "print(\"El resultado de la lista de multiplicacion es: \",K)"
      ],
      "execution_count": 16,
      "outputs": [
        {
          "output_type": "stream",
          "text": [
            "El resultado de la lista de suma es:  10\n",
            "El resultado de la lista de multiplicacion es:  24\n"
          ],
          "name": "stdout"
        }
      ]
    },
    {
      "cell_type": "markdown",
      "metadata": {
        "id": "txsgV5mOXEgQ",
        "colab_type": "text"
      },
      "source": [
        "Devolver el valor de la cadena inversa."
      ]
    },
    {
      "cell_type": "code",
      "metadata": {
        "id": "hYo1jAmRXNFQ",
        "colab_type": "code",
        "colab": {
          "base_uri": "https://localhost:8080/",
          "height": 53
        },
        "outputId": "61b51121-a9af-48f0-80df-04319f2ef496"
      },
      "source": [
        "def inversa():\n",
        "    Texto = input(\"Inserte su palabra: \")[::-1]\n",
        "    print(Texto)\n",
        "\n",
        "inversa()\n"
      ],
      "execution_count": 18,
      "outputs": [
        {
          "output_type": "stream",
          "text": [
            "Inserte su palabra: Juan\n",
            "nauJ\n"
          ],
          "name": "stdout"
        }
      ]
    },
    {
      "cell_type": "markdown",
      "metadata": {
        "id": "unkt56TIXfpz",
        "colab_type": "text"
      },
      "source": [
        "Determinar si una palabra es Palíndroma o no."
      ]
    },
    {
      "cell_type": "code",
      "metadata": {
        "id": "FX5ktvVAXkX4",
        "colab_type": "code",
        "colab": {
          "base_uri": "https://localhost:8080/",
          "height": 53
        },
        "outputId": "924ebb30-d9f5-48eb-dd42-9006876d38b3"
      },
      "source": [
        "TextoOrigen = input(\"Introduce tu palabra: \").upper()\n",
        "Texto2 = TextoOrigen[::-1]\n",
        "\n",
        "def palindroma():\n",
        "    if TextoOrigen == Texto2:\n",
        "        print(\"TRUE\")\n",
        "    else:\n",
        "        print(\"FALSE\")\n",
        "    \n",
        "    \n",
        "palindroma()"
      ],
      "execution_count": 19,
      "outputs": [
        {
          "output_type": "stream",
          "text": [
            "Introduce tu palabra: Ana\n",
            "TRUE\n"
          ],
          "name": "stdout"
        }
      ]
    },
    {
      "cell_type": "markdown",
      "metadata": {
        "id": "VWnREoGTXqaY",
        "colab_type": "text"
      },
      "source": [
        "Repertir el caracter la cantidad de veces especificada."
      ]
    },
    {
      "cell_type": "code",
      "metadata": {
        "id": "Be-B3sx_Xu2B",
        "colab_type": "code",
        "colab": {
          "base_uri": "https://localhost:8080/",
          "height": 72
        },
        "outputId": "e370d6f3-e276-44bf-f15b-7cf65585e9ff"
      },
      "source": [
        "A = int(input(\"Valor: \"))\n",
        "caracter = input(\"Caracter: \")\n",
        "\n",
        "print(A*caracter)"
      ],
      "execution_count": 21,
      "outputs": [
        {
          "output_type": "stream",
          "text": [
            "Valor: 7\n",
            "Caracter: i\n",
            "iiiiiii\n"
          ],
          "name": "stdout"
        }
      ]
    },
    {
      "cell_type": "markdown",
      "metadata": {
        "id": "ZqbnPWY5X_bK",
        "colab_type": "text"
      },
      "source": [
        "Importar la libreria time y sumas la hora, minutos y segundos y devolver el vaor total de la suma."
      ]
    },
    {
      "cell_type": "code",
      "metadata": {
        "id": "anO6LVYOYJU5",
        "colab_type": "code",
        "colab": {
          "base_uri": "https://localhost:8080/",
          "height": 90
        },
        "outputId": "771e742e-07d6-46bd-e9c3-7f1e0edcf529"
      },
      "source": [
        "import time\n",
        "Hora = (time.strftime('%H'))\n",
        "Minuto = (time.strftime('%M'))\n",
        "Segundo = (time.strftime('%S'))\n",
        "print(Hora)\n",
        "print(Minuto)\n",
        "print(Segundo)\n",
        "\n",
        "int_H = int(Hora)\n",
        "int_M = int(Minuto)\n",
        "int_S = int(Segundo)\n",
        "J = int_H + int_M + int_S\n",
        "\n",
        "print(\"La suma total de la hora es: \",J)"
      ],
      "execution_count": 22,
      "outputs": [
        {
          "output_type": "stream",
          "text": [
            "02\n",
            "38\n",
            "20\n",
            "La suma total de la hora es:  60\n"
          ],
          "name": "stdout"
        }
      ]
    },
    {
      "cell_type": "markdown",
      "metadata": {
        "id": "sgxam0ZBYZrp",
        "colab_type": "text"
      },
      "source": [
        "Buscar el valor máximo y mínimo dentro de una lista."
      ]
    },
    {
      "cell_type": "code",
      "metadata": {
        "id": "-tNd5S0SYe_w",
        "colab_type": "code",
        "colab": {
          "base_uri": "https://localhost:8080/",
          "height": 72
        },
        "outputId": "abb683d1-921d-4817-d57a-cb871b82373e"
      },
      "source": [
        "ListaNum = [1,85,65,23,69,25,1]\n",
        "Maximo = max(ListaNum)\n",
        "Minimo = min(ListaNum)\n",
        "\n",
        "print(ListaNum)\n",
        "print(\"El Numero Maximo es: \", Maximo)\n",
        "print(\"El Numero Minimo es: \", Minimo)"
      ],
      "execution_count": 24,
      "outputs": [
        {
          "output_type": "stream",
          "text": [
            "[1, 85, 65, 23, 69, 25, 1]\n",
            "El Numero Maximo es:  85\n",
            "El Numero Minimo es:  1\n"
          ],
          "name": "stdout"
        }
      ]
    },
    {
      "cell_type": "markdown",
      "metadata": {
        "id": "J1bDYzqbYlvL",
        "colab_type": "text"
      },
      "source": [
        "Buscar edad mayor dentro de una lista."
      ]
    },
    {
      "cell_type": "code",
      "metadata": {
        "id": "W5I7KP3eYoTx",
        "colab_type": "code",
        "colab": {
          "base_uri": "https://localhost:8080/",
          "height": 72
        },
        "outputId": "50b295a1-b53e-4357-ed4d-94303e6695e6"
      },
      "source": [
        "Counter = 0\n",
        "Tupla = (25,36,56,36,85,2,1,19,15,13,50)\n",
        "print(Tupla)\n",
        "buscar = int(input(\"Inserte el vaor a buscar: \"))\n",
        "\n",
        "for edad in Tupla:\n",
        "    if edad > buscar:\n",
        "        Counter += 1    \n",
        "        \n",
        "print(\"La cantidad de personas mayores de buscar son: \",Counter)"
      ],
      "execution_count": 27,
      "outputs": [
        {
          "output_type": "stream",
          "text": [
            "(25, 36, 56, 36, 85, 2, 1, 19, 15, 13, 50)\n",
            "Inserte el vaor a buscar: 20\n",
            "La cantidad de personas mayores de buscar son:  6\n"
          ],
          "name": "stdout"
        }
      ]
    },
    {
      "cell_type": "markdown",
      "metadata": {
        "id": "LsE0dKPOZI68",
        "colab_type": "text"
      },
      "source": [
        "Programa calcule si el año es Bisiesto o no."
      ]
    },
    {
      "cell_type": "code",
      "metadata": {
        "id": "e-AvzfkmZM55",
        "colab_type": "code",
        "colab": {
          "base_uri": "https://localhost:8080/",
          "height": 53
        },
        "outputId": "0a3d3a0b-8c98-4ece-8bc5-423e72d50c93"
      },
      "source": [
        "anio = int(input(\"Inserte el año a buscar: \"))\n",
        "\n",
        "def bisiesto():\n",
        "    if anio % 4 == 0 and anio % 100 != 0 or anio % 400 == 0:\n",
        "        print(\"El año es Bisiesto\")\n",
        "    else:\n",
        "        print(\"El año no es Bisiesto\")\n",
        "        \n",
        "bisiesto()"
      ],
      "execution_count": 28,
      "outputs": [
        {
          "output_type": "stream",
          "text": [
            "Inserte el año a buscar: 2000\n",
            "El año es Bisiesto\n"
          ],
          "name": "stdout"
        }
      ]
    },
    {
      "cell_type": "markdown",
      "metadata": {
        "id": "vyF-XTuPZTXS",
        "colab_type": "text"
      },
      "source": [
        "Calcular el número décimal del número binario dado."
      ]
    },
    {
      "cell_type": "code",
      "metadata": {
        "id": "JuL-WbUNZZ2x",
        "colab_type": "code",
        "colab": {
          "base_uri": "https://localhost:8080/",
          "height": 53
        },
        "outputId": "1a472e88-6d10-411a-ffbf-83d7900d2b87"
      },
      "source": [
        "decimal = 0\n",
        "binario = input(\"Inserte el digito binario: \")\n",
        "\n",
        "for digito in binario:\n",
        "    decimal = decimal*2+ int(digito)\n",
        "\n",
        "print(\"El numero en entero es: \",decimal)"
      ],
      "execution_count": 29,
      "outputs": [
        {
          "output_type": "stream",
          "text": [
            "Inserte el digito binario: 10001010\n",
            "El numero en entero es:  138\n"
          ],
          "name": "stdout"
        }
      ]
    },
    {
      "cell_type": "markdown",
      "metadata": {
        "id": "4VTDW_zqZgTJ",
        "colab_type": "text"
      },
      "source": [
        "Programa calcula la edad de tres personas para este año."
      ]
    },
    {
      "cell_type": "code",
      "metadata": {
        "id": "T3876lLPZnEQ",
        "colab_type": "code",
        "colab": {
          "base_uri": "https://localhost:8080/",
          "height": 199
        },
        "outputId": "fce439ce-7847-4010-cb1e-57bec4ac3895"
      },
      "source": [
        "anio = int(input(\"Inserte el año actual: \"))\n",
        "persona1 = input(\"Inserte el nombre de la persona 1: \")\n",
        "anio1 = int(input(\"Inserte el año de la persona 1: \"))\n",
        "persona2 = input(\"Inserte el nombre de la persona 2: \")\n",
        "anio2 = int(input(\"Inserte el año de la persona 2: \"))\n",
        "persona3 = input(\"Inserte el nombre de la persona 3: \")\n",
        "anio3 = int(input(\"Inserte el año de la persona 3: \"))\n",
        "\n",
        "edad1 = anio - anio1\n",
        "edad2 = anio - anio2\n",
        "edad3 = anio - anio3\n",
        "\n",
        "print(\"La edad de \",persona1,\"será: \",edad1)\n",
        "print(\"La edad de \",persona2,\"será: \",edad2)\n",
        "print(\"La edad de \",persona3,\"será: \",edad3)"
      ],
      "execution_count": 30,
      "outputs": [
        {
          "output_type": "stream",
          "text": [
            "Inserte el año actual: 2020\n",
            "Inserte el nombre de la persona 1: Ana\n",
            "Inserte el año de la persona 1: 1990\n",
            "Inserte el nombre de la persona 2: Argenis\n",
            "Inserte el año de la persona 2: 1993\n",
            "Inserte el nombre de la persona 3: Samuel\n",
            "Inserte el año de la persona 3: 1995\n",
            "La edad de  Ana será:  30\n",
            "La edad de  Argenis será:  27\n",
            "La edad de  Samuel será:  25\n"
          ],
          "name": "stdout"
        }
      ]
    }
  ]
}