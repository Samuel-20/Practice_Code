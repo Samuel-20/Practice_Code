{
  "nbformat": 4,
  "nbformat_minor": 0,
  "metadata": {
    "colab": {
      "name": "Python Basic_I.ipynb",
      "provenance": [],
      "collapsed_sections": []
    },
    "kernelspec": {
      "name": "python3",
      "display_name": "Python 3"
    }
  },
  "cells": [
    {
      "cell_type": "markdown",
      "metadata": {
        "id": "Snw3u6r6cWxF",
        "colab_type": "text"
      },
      "source": [
        "# Python Basic (Part -I) - Exercises, Practice, Solution"
      ]
    },
    {
      "cell_type": "markdown",
      "metadata": {
        "id": "1eWbrr0dcdDh",
        "colab_type": "text"
      },
      "source": [
        "1. Write a Python program to print the following string in a specific format.\n",
        "Sample String : \"Twinkle, twinkle, little star, How I wonder what you are! Up above the world so high, Like a diamond in the sky. Twinkle, twinkle, little star, How I wonder what you are\" Output :\n",
        "\n",
        "Twinkle, twinkle, little star,\n",
        "> \tHow I wonder what you are!\n",
        "> \t\tUp above the world so high,   \t\t\n",
        "\t\tLike a diamond in the sky. \n",
        "Twinkle, twinkle, little star, \n",
        "\n",
        "> \tHow I wonder what you are\n",
        "\n"
      ]
    },
    {
      "cell_type": "code",
      "metadata": {
        "id": "hnS-ujROcTd_",
        "colab_type": "code",
        "colab": {
          "base_uri": "https://localhost:8080/",
          "height": 126
        },
        "outputId": "88057cfa-70de-4d3c-d788-e5434740e406"
      },
      "source": [
        "#I'm gonna use \\n -> Jump Lines \\t -> Tabulate data\n",
        "print(\"Twinkle, twinkle, little star, \\n\\tHow I wonder what you are! \\n\\t\\tUp above the world so high, \\n\\t\\tLike a diamond in the sky. \\nTwinkle, twinkle, little star, \\n\\tHow I wonder what you are\")\n"
      ],
      "execution_count": 5,
      "outputs": [
        {
          "output_type": "stream",
          "text": [
            "Twinkle, twinkle, little star, \n",
            "\tHow I wonder what you are! \n",
            "\t\tUp above the world so high, \n",
            "\t\tLike a diamond in the sky. \n",
            "Twinkle, twinkle, little star, \n",
            "\tHow I wonder what you are\n"
          ],
          "name": "stdout"
        }
      ]
    },
    {
      "cell_type": "markdown",
      "metadata": {
        "id": "TdrCGzJ4d0r0",
        "colab_type": "text"
      },
      "source": [
        "2. Write a Python program to get the Python version you are using."
      ]
    },
    {
      "cell_type": "code",
      "metadata": {
        "id": "Ji2_ObYmd2GC",
        "colab_type": "code",
        "colab": {}
      },
      "source": [
        "import sys"
      ],
      "execution_count": 0,
      "outputs": []
    },
    {
      "cell_type": "code",
      "metadata": {
        "id": "VAJW-rkAeKHR",
        "colab_type": "code",
        "colab": {
          "base_uri": "https://localhost:8080/",
          "height": 35
        },
        "outputId": "c670055f-9819-4fb8-91c2-bf76ec8e3aa4"
      },
      "source": [
        "sys.version"
      ],
      "execution_count": 12,
      "outputs": [
        {
          "output_type": "execute_result",
          "data": {
            "text/plain": [
              "'3.6.9 (default, Apr 18 2020, 01:56:04) \\n[GCC 8.4.0]'"
            ]
          },
          "metadata": {
            "tags": []
          },
          "execution_count": 12
        }
      ]
    },
    {
      "cell_type": "markdown",
      "metadata": {
        "id": "BySVVYtAeOIq",
        "colab_type": "text"
      },
      "source": [
        "3. Write a Python program to display the current date and time.\n",
        "Sample Output :\n",
        "Current date and time :\n",
        "2014-07-05 14:34:14"
      ]
    },
    {
      "cell_type": "code",
      "metadata": {
        "id": "-ndp2Kk2eSjx",
        "colab_type": "code",
        "colab": {
          "base_uri": "https://localhost:8080/",
          "height": 53
        },
        "outputId": "aa55f50b-8ba3-4a76-c517-4ed84c6b4a21"
      },
      "source": [
        "import datetime\n",
        "day = datetime.datetime.now()\n",
        "print(\"Current date and time: \")\n",
        "print(day.strftime(\"%Y-%m-%d %H:%M:%S\"))"
      ],
      "execution_count": 25,
      "outputs": [
        {
          "output_type": "stream",
          "text": [
            "Current date and time: \n",
            "2020-05-10 03:14:53\n"
          ],
          "name": "stdout"
        }
      ]
    },
    {
      "cell_type": "markdown",
      "metadata": {
        "id": "oe-A5xhkgnz6",
        "colab_type": "text"
      },
      "source": [
        "4. Write a Python program which accepts the radius of a circle from the user and compute the area."
      ]
    },
    {
      "cell_type": "code",
      "metadata": {
        "id": "E4aoZz33gpZs",
        "colab_type": "code",
        "colab": {
          "base_uri": "https://localhost:8080/",
          "height": 53
        },
        "outputId": "e19fe7f9-6d4c-4dd6-f821-74be7765e25e"
      },
      "source": [
        "radious = int(input(\"Introduce the radious value: \"))\n",
        "import math\n",
        "Area = math.pi*radious*2\n",
        "print(\"The value of the area is: \" + str(Area))"
      ],
      "execution_count": 28,
      "outputs": [
        {
          "output_type": "stream",
          "text": [
            "Introduce the radious value: 56\n",
            "The value of the area is: 351.85837720205683\n"
          ],
          "name": "stdout"
        }
      ]
    },
    {
      "cell_type": "markdown",
      "metadata": {
        "id": "tAQa3LCihckp",
        "colab_type": "text"
      },
      "source": [
        "5. Write a Python program which accepts the user's first and last name and print them in reverse order with a space between them"
      ]
    },
    {
      "cell_type": "code",
      "metadata": {
        "id": "0Dxz2Eu_hkc5",
        "colab_type": "code",
        "colab": {
          "base_uri": "https://localhost:8080/",
          "height": 90
        },
        "outputId": "e84a582e-cb52-4004-b4fa-666a434219d2"
      },
      "source": [
        "name = input(\"Introduce the name: \")\n",
        "last = input(\"Introduce the last name: \")\n",
        "concat = name + \" \" + last\n",
        "print(concat)\n",
        "print(\"In reverse: \" + concat[::-1])"
      ],
      "execution_count": 33,
      "outputs": [
        {
          "output_type": "stream",
          "text": [
            "Introduce the name: Juan\n",
            "Introduce the last name: Perez\n",
            "Juan Perez\n",
            "In reverse: zereP nauJ\n"
          ],
          "name": "stdout"
        }
      ]
    },
    {
      "cell_type": "markdown",
      "metadata": {
        "id": "LIpItZl0jDuK",
        "colab_type": "text"
      },
      "source": [
        "6. Write a Python program which accepts a sequence of comma-separated numbers from user and generate a list and a tuple with those numbers."
      ]
    },
    {
      "cell_type": "code",
      "metadata": {
        "id": "hK9Z6nKOjFOE",
        "colab_type": "code",
        "colab": {
          "base_uri": "https://localhost:8080/",
          "height": 72
        },
        "outputId": "c45861fc-d648-43a3-c34a-5ea5b828b1c4"
      },
      "source": [
        "numbers = input(\"Introduce the list of numbers: \")\n",
        "lista = numbers.split(',')\n",
        "\n",
        "#Tuple gives an error but work fine in VS Code\n",
        "tupla = lista\n",
        "print(\"List: \", lista)\n",
        "print(\"Tuple: \", tupla)"
      ],
      "execution_count": 50,
      "outputs": [
        {
          "output_type": "stream",
          "text": [
            "Introduce the list of numbers: 7,9,5,8,4\n",
            "List:  ['7', '9', '5', '8', '4']\n",
            "Tuple:  ['7', '9', '5', '8', '4']\n"
          ],
          "name": "stdout"
        }
      ]
    },
    {
      "cell_type": "markdown",
      "metadata": {
        "id": "sKNGXZ2hn7FR",
        "colab_type": "text"
      },
      "source": [
        "7. Write a Python program to accept a filename from the user and print the extension of that.\n",
        "Sample filename : abc.java "
      ]
    },
    {
      "cell_type": "code",
      "metadata": {
        "id": "7o3Wu9e2oEwx",
        "colab_type": "code",
        "colab": {
          "base_uri": "https://localhost:8080/",
          "height": 53
        },
        "outputId": "77e33a42-0f10-41bd-dca0-a38d501cb0ca"
      },
      "source": [
        "filename = input('Introduce the filename and extension: ')\n",
        "extension = filename.split('.')\n",
        "print('The extension is: ' + str(extension[-1]))"
      ],
      "execution_count": 51,
      "outputs": [
        {
          "output_type": "stream",
          "text": [
            "Introduce the filename and extension: sfgfggd.java\n",
            "The extension is: java\n"
          ],
          "name": "stdout"
        }
      ]
    },
    {
      "cell_type": "markdown",
      "metadata": {
        "id": "KIExTbM1q3mz",
        "colab_type": "text"
      },
      "source": [
        "8. Write a Python program to display the first and last colors from the following list.\n",
        "color_list = [\"Red\",\"Green\",\"White\" ,\"Black\"]"
      ]
    },
    {
      "cell_type": "code",
      "metadata": {
        "id": "xAcJgoiVrkkd",
        "colab_type": "code",
        "colab": {
          "base_uri": "https://localhost:8080/",
          "height": 53
        },
        "outputId": "58459cdc-0b8b-432d-ff46-bb28183dde93"
      },
      "source": [
        "colors_list = [\"Red\",\"Green\",\"White\" ,\"Black\"]\n",
        "print('First value: ' + colors_list[0])\n",
        "print('Last value: ' + colors_list[-1])"
      ],
      "execution_count": 62,
      "outputs": [
        {
          "output_type": "stream",
          "text": [
            "First value: Red\n",
            "Last value: Black\n"
          ],
          "name": "stdout"
        }
      ]
    },
    {
      "cell_type": "markdown",
      "metadata": {
        "id": "AoMWjeHGr5Gt",
        "colab_type": "text"
      },
      "source": [
        "9. Write a Python program to display the examination schedule. (extract the date from exam_st_date).\n",
        "exam_st_date = (11, 12, 2014)"
      ]
    },
    {
      "cell_type": "code",
      "metadata": {
        "id": "XHlPvMUMsElv",
        "colab_type": "code",
        "colab": {
          "base_uri": "https://localhost:8080/",
          "height": 35
        },
        "outputId": "36df8c90-2de2-49b8-dcda-462dbe6ac2d9"
      },
      "source": [
        "exam_date = (11,12,2014)\n",
        "print(\"Examination date: %i /%i /%i\"%exam_date )"
      ],
      "execution_count": 63,
      "outputs": [
        {
          "output_type": "stream",
          "text": [
            "Examination date: 11 /12 /2014\n"
          ],
          "name": "stdout"
        }
      ]
    },
    {
      "cell_type": "markdown",
      "metadata": {
        "id": "X8bSt-H5siLy",
        "colab_type": "text"
      },
      "source": [
        "10. Write a Python program that accepts an integer (n) and computes the value of n+nn+nnn.\n",
        "Sample value of n is 5 "
      ]
    },
    {
      "cell_type": "code",
      "metadata": {
        "id": "fMnZ2wa-smQJ",
        "colab_type": "code",
        "colab": {
          "base_uri": "https://localhost:8080/",
          "height": 35
        },
        "outputId": "642d3fb0-ec46-412e-a587-cdf4062689a6"
      },
      "source": [
        "n = 5\n",
        "p = n * 2\n",
        "m = n * 3\n",
        "print(\"Total: \" + str(n+p+m))"
      ],
      "execution_count": 64,
      "outputs": [
        {
          "output_type": "stream",
          "text": [
            "Total: 30\n"
          ],
          "name": "stdout"
        }
      ]
    },
    {
      "cell_type": "markdown",
      "metadata": {
        "id": "Mp6OAA4ds-NC",
        "colab_type": "text"
      },
      "source": [
        "11. Write a Python program to print the documents (syntax, description etc.) of Python built-in function(s).\n",
        "Sample function : abs()\n",
        "Expected Result :\n",
        "abs(number) -> number"
      ]
    },
    {
      "cell_type": "code",
      "metadata": {
        "id": "gN_Mk2YjtKp5",
        "colab_type": "code",
        "colab": {
          "base_uri": "https://localhost:8080/",
          "height": 253
        },
        "outputId": "c43703d7-1bbe-4ece-c52c-4a002dad099f"
      },
      "source": [
        "function = input(\"Introduce your function: \")\n",
        "print(help(function))"
      ],
      "execution_count": 69,
      "outputs": [
        {
          "output_type": "stream",
          "text": [
            "Introduce your function: max\n",
            "Help on built-in function max in module builtins:\n",
            "\n",
            "max(...)\n",
            "    max(iterable, *[, default=obj, key=func]) -> value\n",
            "    max(arg1, arg2, *args, *[, key=func]) -> value\n",
            "    \n",
            "    With a single iterable argument, return its biggest item. The\n",
            "    default keyword-only argument specifies an object to return if\n",
            "    the provided iterable is empty.\n",
            "    With two or more arguments, return the largest argument.\n",
            "\n",
            "None\n"
          ],
          "name": "stdout"
        }
      ]
    },
    {
      "cell_type": "markdown",
      "metadata": {
        "id": "pKYWhSdZtp5j",
        "colab_type": "text"
      },
      "source": [
        "12. Write a Python program to print the calendar of a given month and year.\n",
        "Note : Use 'calendar' module. "
      ]
    },
    {
      "cell_type": "code",
      "metadata": {
        "id": "UYsF4SzstuDa",
        "colab_type": "code",
        "colab": {
          "base_uri": "https://localhost:8080/",
          "height": 199
        },
        "outputId": "f7294018-701d-4c35-b7ce-b397b7624286"
      },
      "source": [
        "import calendar\n",
        "year = int(input(\"Introduce year: \"))\n",
        "month = int(input(\"Intrfouce month: \"))\n",
        "print(calendar.month(year,month))"
      ],
      "execution_count": 70,
      "outputs": [
        {
          "output_type": "stream",
          "text": [
            "Introduce year: 2017\n",
            "Intrfouce month: 5\n",
            "      May 2017\n",
            "Mo Tu We Th Fr Sa Su\n",
            " 1  2  3  4  5  6  7\n",
            " 8  9 10 11 12 13 14\n",
            "15 16 17 18 19 20 21\n",
            "22 23 24 25 26 27 28\n",
            "29 30 31\n",
            "\n"
          ],
          "name": "stdout"
        }
      ]
    },
    {
      "cell_type": "markdown",
      "metadata": {
        "id": "y1Tj93jWu_Nt",
        "colab_type": "text"
      },
      "source": [
        "13. Write a Python program to print the following here document. Go to the editor\n",
        "Sample string :\n",
        "a string that you \"don't\" have to escape\n",
        "This\n",
        "is a ....... multi-line\n",
        "heredoc string --------> example"
      ]
    },
    {
      "cell_type": "code",
      "metadata": {
        "id": "lLAyjsWavPiZ",
        "colab_type": "code",
        "colab": {
          "base_uri": "https://localhost:8080/",
          "height": 72
        },
        "outputId": "c682e985-31a4-490a-d08b-7c3630485a41"
      },
      "source": [
        "print(\"\"\"a string that you \"don't\" have to escape \n",
        "This is a ....... multi-line heredoc \n",
        "string --------> example\"\"\")"
      ],
      "execution_count": 72,
      "outputs": [
        {
          "output_type": "stream",
          "text": [
            "a string that you \"don't\" have to escape \n",
            "This is a ....... multi-line heredoc \n",
            "string --------> example\n"
          ],
          "name": "stdout"
        }
      ]
    },
    {
      "cell_type": "markdown",
      "metadata": {
        "id": "t99NWsfhvgv6",
        "colab_type": "text"
      },
      "source": [
        "14. Write a Python program to calculate number of days between two dates.\n",
        "Sample dates : (2014, 7, 2), (2014, 7, 11)\n",
        "Expected output : 9 days "
      ]
    },
    {
      "cell_type": "code",
      "metadata": {
        "id": "C9Dk7blcvlwW",
        "colab_type": "code",
        "colab": {
          "base_uri": "https://localhost:8080/",
          "height": 35
        },
        "outputId": "5387583c-f6b2-4997-abc8-8433f279de83"
      },
      "source": [
        "from datetime import date\n",
        "to_date = date(2014,7,2)\n",
        "from_date = date(2014,7,11)\n",
        "delta_date = from_date - to_date\n",
        "print(delta_date.days)"
      ],
      "execution_count": 77,
      "outputs": [
        {
          "output_type": "stream",
          "text": [
            "9\n"
          ],
          "name": "stdout"
        }
      ]
    },
    {
      "cell_type": "markdown",
      "metadata": {
        "id": "CS8LX_o6wfgQ",
        "colab_type": "text"
      },
      "source": [
        "15. Write a Python program to get the volume of a sphere with radius 6."
      ]
    },
    {
      "cell_type": "code",
      "metadata": {
        "id": "d41Kxc0Rwt6d",
        "colab_type": "code",
        "colab": {
          "base_uri": "https://localhost:8080/",
          "height": 35
        },
        "outputId": "20bfe1fe-b94f-4642-b83e-9366204c7208"
      },
      "source": [
        "#V = (4/3)πr3\n",
        "import math\n",
        "r = 6\n",
        "V = (4/3) * math.pi * r ** 3\n",
        "print(\"Volume: \" + str(V))"
      ],
      "execution_count": 78,
      "outputs": [
        {
          "output_type": "stream",
          "text": [
            "Volume: 904.7786842338603\n"
          ],
          "name": "stdout"
        }
      ]
    },
    {
      "cell_type": "markdown",
      "metadata": {
        "id": "mFZRBdoUxG4h",
        "colab_type": "text"
      },
      "source": [
        "16. Write a Python program to get the difference between a given number and 17, if the number is greater than 17 return double the absolute difference."
      ]
    },
    {
      "cell_type": "code",
      "metadata": {
        "id": "qJNRvTAuxdIU",
        "colab_type": "code",
        "colab": {
          "base_uri": "https://localhost:8080/",
          "height": 53
        },
        "outputId": "00e66700-78b5-425c-f50d-f0a35658282d"
      },
      "source": [
        "number = int(input(\"Introduce your number: \"))\n",
        "diff = 17 - number\n",
        "print(abs(diff))"
      ],
      "execution_count": 80,
      "outputs": [
        {
          "output_type": "stream",
          "text": [
            "Introduce your number: 10\n",
            "7\n"
          ],
          "name": "stdout"
        }
      ]
    },
    {
      "cell_type": "markdown",
      "metadata": {
        "id": "4hMpnHq6xwwy",
        "colab_type": "text"
      },
      "source": [
        "17. Write a Python program to test whether a number is within 100 of 1000 or 2000."
      ]
    },
    {
      "cell_type": "code",
      "metadata": {
        "id": "b6VgcZR4x-J0",
        "colab_type": "code",
        "colab": {
          "base_uri": "https://localhost:8080/",
          "height": 53
        },
        "outputId": "082048eb-42d7-4475-80f1-ea7a79d51a92"
      },
      "source": [
        "number = int(input(\"Introduce the number: \"))\n",
        "if number < 100:\n",
        "  print(\"The number is within 100\")\n",
        "elif number < 1000:\n",
        "  print(\"The number is within 1000\")\n",
        "else :\n",
        "  print(\"The number is within 2000\")"
      ],
      "execution_count": 83,
      "outputs": [
        {
          "output_type": "stream",
          "text": [
            "Introduce the number: 900\n",
            "The number is within 1000\n"
          ],
          "name": "stdout"
        }
      ]
    },
    {
      "cell_type": "markdown",
      "metadata": {
        "id": "1jzvKlfmyigK",
        "colab_type": "text"
      },
      "source": [
        "18. Write a Python program to calculate the sum of three given numbers, if the values are equal then return three times of their sum."
      ]
    },
    {
      "cell_type": "code",
      "metadata": {
        "id": "aOr5ftG3ylh8",
        "colab_type": "code",
        "colab": {
          "base_uri": "https://localhost:8080/",
          "height": 90
        },
        "outputId": "6f3c2997-5cfd-4ce4-8426-c8a3211fe0f2"
      },
      "source": [
        "number1 = int(input(\"Introduce the number 1: \"))\n",
        "number2 = int(input(\"Introduce the number 2: \"))\n",
        "number3 = int(input(\"Introduce the number 3: \"))\n",
        "\n",
        "if number1 == number2 and number2 == number3:\n",
        "  sum = (number1 * 3) * 3\n",
        "  print(\"Result: \" + str(sum))\n",
        "else:\n",
        "  sum = number1 + number2 + number3\n",
        "  print(\"Result: \" + str(sum))"
      ],
      "execution_count": 85,
      "outputs": [
        {
          "output_type": "stream",
          "text": [
            "Introduce the number 1: 5\n",
            "Introduce the number 2: 5\n",
            "Introduce the number 3: 5\n",
            "Result: 45\n"
          ],
          "name": "stdout"
        }
      ]
    },
    {
      "cell_type": "markdown",
      "metadata": {
        "id": "evKMX3KUzUyD",
        "colab_type": "text"
      },
      "source": [
        ""
      ]
    }
  ]
}